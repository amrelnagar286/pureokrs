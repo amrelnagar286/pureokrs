{
 "cells": [
  {
   "cell_type": "code",
   "execution_count": 4,
   "metadata": {},
   "outputs": [],
   "source": [
    "import requests\n",
    "import urllib.request\n",
    "import time\n",
    "from bs4 import BeautifulSoup\n",
    "import matplotlib.pyplot as plt\n",
    "import pandas as pd"
   ]
  },
  {
   "cell_type": "code",
   "execution_count": 10,
   "metadata": {},
   "outputs": [
    {
     "name": "stdout",
     "output_type": "stream",
     "text": [
      "page: 1\n",
      "page: 2\n",
      "page: 3\n",
      "page: 4\n",
      "page: 5\n",
      "page: 6\n",
      "page: 7\n",
      "page: 8\n",
      "page: 9\n",
      "page: 10\n"
     ]
    },
    {
     "data": {
      "image/png": "[encoded data removed]",
      "text/plain": [
       "<Figure size 432x288 with 1 Axes>"
      ]
     },
     "metadata": {
      "needs_background": "light"
     },
     "output_type": "display_data"
    }
   ],
   "source": [
    "url = \"https://www.elkjop.no/catalog/tv-og-bilde/no-tv/tv?PageNumber=\"\n",
    "tv_prices_array = [] \n",
    "for page in range(1, 11):\n",
    "    print('page:', page)\n",
    "    response = requests.get(url + str(page))\n",
    "    soup = BeautifulSoup(response.text, \"html.parser\")\n",
    "    TV_names = soup.find_all('span', {'class':'table-cell'})\n",
    "    TV_prices = soup.find_all('div', {'class': 'product-price'})\n",
    "    for i in range(0, len(TV_names)):\n",
    "        row = [TV_names[i].text, int(\"\".join(TV_prices[i].text.split()))]\n",
    "        tv_prices_array.append(row)\n",
    "    time.sleep(0.5)\n",
    "    \n",
    "df = pd.DataFrame(tv_prices_array, columns=['TV Name', 'Price'])\n",
    "df.plot.hist(bins=10)\n",
    "df.to_csv('./Private Equity/elkjop_TV_prices.csv')\n"
   ]
  },
  {
   "cell_type": "code",
   "execution_count": null,
   "metadata": {},
   "outputs": [],
   "source": []
  }
 ],
 "metadata": {
  "kernelspec": {
   "display_name": "Python 3",
   "language": "python",
   "name": "python3"
  },
  "language_info": {
   "codemirror_mode": {
    "name": "ipython",
    "version": 3
   },
   "file_extension": ".py",
   "mimetype": "text/x-python",
   "name": "python",
   "nbconvert_exporter": "python",
   "pygments_lexer": "ipython3",
   "version": "3.7.2"
  }
 },
 "nbformat": 4,
 "nbformat_minor": 4
}
